{
 "cells": [
  {
   "cell_type": "markdown",
   "id": "124405d9",
   "metadata": {},
   "source": [
    "### Web Pricing"
   ]
  },
  {
   "cell_type": "code",
   "execution_count": 25,
   "id": "1a027c96",
   "metadata": {},
   "outputs": [
    {
     "data": {
      "text/html": [
       "<div>\n",
       "<style scoped>\n",
       "    .dataframe tbody tr th:only-of-type {\n",
       "        vertical-align: middle;\n",
       "    }\n",
       "\n",
       "    .dataframe tbody tr th {\n",
       "        vertical-align: top;\n",
       "    }\n",
       "\n",
       "    .dataframe thead th {\n",
       "        text-align: right;\n",
       "    }\n",
       "</style>\n",
       "<table border=\"1\" class=\"dataframe\">\n",
       "  <thead>\n",
       "    <tr style=\"text-align: right;\">\n",
       "      <th></th>\n",
       "      <th>Link Produto</th>\n",
       "      <th>Amazon</th>\n",
       "      <th>Lojas Americanas</th>\n",
       "      <th>Magazine Luiza</th>\n",
       "      <th>Preço Original</th>\n",
       "      <th>Preço Atual</th>\n",
       "      <th>Local</th>\n",
       "    </tr>\n",
       "  </thead>\n",
       "  <tbody>\n",
       "    <tr>\n",
       "      <th>0</th>\n",
       "      <td>Iphone 11</td>\n",
       "      <td>https://www.amazon.com.br/IPHONE-11-PRETO-TELA...</td>\n",
       "      <td>https://www.americanas.com.br/produto/16113159...</td>\n",
       "      <td>https://www.magazineluiza.com.br/iphone-11-app...</td>\n",
       "      <td>5297</td>\n",
       "      <td>NaN</td>\n",
       "      <td>NaN</td>\n",
       "    </tr>\n",
       "    <tr>\n",
       "      <th>1</th>\n",
       "      <td>Galaxy S21</td>\n",
       "      <td>https://www.amazon.com.br/SM-G996B-Standard-Du...</td>\n",
       "      <td>https://www.americanas.com.br/produto/28752403...</td>\n",
       "      <td>https://www.magazineluiza.com.br/smartphone-sa...</td>\n",
       "      <td>7000</td>\n",
       "      <td>NaN</td>\n",
       "      <td>NaN</td>\n",
       "    </tr>\n",
       "  </tbody>\n",
       "</table>\n",
       "</div>"
      ],
      "text/plain": [
       "  Link Produto                                             Amazon  \\\n",
       "0    Iphone 11  https://www.amazon.com.br/IPHONE-11-PRETO-TELA...   \n",
       "1   Galaxy S21  https://www.amazon.com.br/SM-G996B-Standard-Du...   \n",
       "\n",
       "                                    Lojas Americanas  \\\n",
       "0  https://www.americanas.com.br/produto/16113159...   \n",
       "1  https://www.americanas.com.br/produto/28752403...   \n",
       "\n",
       "                                      Magazine Luiza  Preço Original  \\\n",
       "0  https://www.magazineluiza.com.br/iphone-11-app...            5297   \n",
       "1  https://www.magazineluiza.com.br/smartphone-sa...            7000   \n",
       "\n",
       "   Preço Atual  Local  \n",
       "0          NaN    NaN  \n",
       "1          NaN    NaN  "
      ]
     },
     "metadata": {},
     "output_type": "display_data"
    }
   ],
   "source": [
    "import pandas as pd\n",
    "from selenium import webdriver\n",
    "from selenium.webdriver.common.by import By\n",
    "import win32com.client as win32\n",
    "\n",
    "products = pd.read_excel(r'Products.xlsx')\n",
    "display(products)"
   ]
  },
  {
   "cell_type": "code",
   "execution_count": 26,
   "id": "da523249",
   "metadata": {},
   "outputs": [],
   "source": [
    "def text_transform(text):\n",
    "    return float(text.replace('R$', '').replace('.', '').replace(',', '.'))"
   ]
  },
  {
   "cell_type": "code",
   "execution_count": 29,
   "id": "71d6cfab",
   "metadata": {},
   "outputs": [
    {
     "name": "stdout",
     "output_type": "stream",
     "text": [
      "4566.0 3905.07 3905.07\n",
      "6199.0 4048.7 7199.1\n"
     ]
    }
   ],
   "source": [
    "driver = webdriver.Chrome()\n",
    "\n",
    "sendemail = False\n",
    "\n",
    "discount_min = 0.2\n",
    "\n",
    "for i, rows in products.iterrows():\n",
    "    # Get Amazon Price\n",
    "    driver.get(rows['Amazon'])\n",
    "    try:\n",
    "        price_amz = driver.find_element(By.XPATH, '//*[@id=\"corePrice_desktop\"]/div/table/tbody/tr[1]/td[2]/span[1]/span[2]').text\n",
    "        price_amz = text_transform(price_amz)\n",
    "    except:\n",
    "        try:\n",
    "            price_amz = driver.find_element(By.XPATH, '//*[@id=\"olp_feature_div\"]/div[2]/span[1]/a/span[2]').text\n",
    "            price_amz = text_transform(price_amz)\n",
    "        except:\n",
    "            print('Product {} not avilabe on Amazon'.format(rows['Link Produto']))\n",
    "            price_amz = rows['Preço Original'] * 3\n",
    "    \n",
    "\n",
    "    # Get Lojas Americanas Price\n",
    "    driver.get(rows['Lojas Americanas'])\n",
    "    try:\n",
    "        price_lam = driver.find_element(By.CLASS_NAME, 'src__BestPrice-sc-1jvw02c-5').text\n",
    "        price_lam = text_transform(price_lam)\n",
    "    except:\n",
    "        print('Product {} not avilabe on B2W'.format(rows['Link Produto']))\n",
    "        price_lam = rows['Preço Original'] * 3        \n",
    "\n",
    "    # Get Magalu Price\n",
    "    driver.get(rows['Magazine Luiza'])\n",
    "    try:\n",
    "        price_mgl = driver.find_element(By.CLASS_NAME, 'price-template__text').text\n",
    "        price_mgl = text_transform(price_mgl)\n",
    "    except:\n",
    "        print('Product {} not avilabe on MAGALU'.format(rows['Link Produto']))\n",
    "        price_mgl = rows['Preço Original'] * 3 \n",
    "        \n",
    "\n",
    "    print(price_amz, price_lam, price_mgl)\n",
    "    \n",
    "    original_price = rows['Preço Original']\n",
    "    \n",
    "    lst_price = [(price_amz, 'Amazon'), (price_lam, 'Lojas Americanas'), (price_mgl, 'Magazine Luiza'), (original_price, 'Original')]\n",
    "    lst_price.sort()\n",
    "    \n",
    "    products.loc[i, 'Preço Atual'] = lst_price[0][0]\n",
    "    products.loc[i, 'Local'] = lst_price[0][1]\n",
    "    \n",
    "    if lst_price[0][0] <= original_price * (1-discount_min):\n",
    "        sendemail = True\n",
    "        "
   ]
  },
  {
   "cell_type": "code",
   "execution_count": 30,
   "id": "46923098",
   "metadata": {},
   "outputs": [
    {
     "data": {
      "text/html": [
       "<div>\n",
       "<style scoped>\n",
       "    .dataframe tbody tr th:only-of-type {\n",
       "        vertical-align: middle;\n",
       "    }\n",
       "\n",
       "    .dataframe tbody tr th {\n",
       "        vertical-align: top;\n",
       "    }\n",
       "\n",
       "    .dataframe thead th {\n",
       "        text-align: right;\n",
       "    }\n",
       "</style>\n",
       "<table border=\"1\" class=\"dataframe\">\n",
       "  <thead>\n",
       "    <tr style=\"text-align: right;\">\n",
       "      <th></th>\n",
       "      <th>Link Produto</th>\n",
       "      <th>Amazon</th>\n",
       "      <th>Lojas Americanas</th>\n",
       "      <th>Magazine Luiza</th>\n",
       "      <th>Preço Original</th>\n",
       "      <th>Preço Atual</th>\n",
       "      <th>Local</th>\n",
       "    </tr>\n",
       "  </thead>\n",
       "  <tbody>\n",
       "    <tr>\n",
       "      <th>0</th>\n",
       "      <td>Iphone 11</td>\n",
       "      <td>https://www.amazon.com.br/IPHONE-11-PRETO-TELA...</td>\n",
       "      <td>https://www.americanas.com.br/produto/16113159...</td>\n",
       "      <td>https://www.magazineluiza.com.br/iphone-11-app...</td>\n",
       "      <td>5297</td>\n",
       "      <td>3905.07</td>\n",
       "      <td>Lojas Americanas</td>\n",
       "    </tr>\n",
       "    <tr>\n",
       "      <th>1</th>\n",
       "      <td>Galaxy S21</td>\n",
       "      <td>https://www.amazon.com.br/SM-G996B-Standard-Du...</td>\n",
       "      <td>https://www.americanas.com.br/produto/28752403...</td>\n",
       "      <td>https://www.magazineluiza.com.br/smartphone-sa...</td>\n",
       "      <td>7000</td>\n",
       "      <td>4048.70</td>\n",
       "      <td>Lojas Americanas</td>\n",
       "    </tr>\n",
       "  </tbody>\n",
       "</table>\n",
       "</div>"
      ],
      "text/plain": [
       "  Link Produto                                             Amazon  \\\n",
       "0    Iphone 11  https://www.amazon.com.br/IPHONE-11-PRETO-TELA...   \n",
       "1   Galaxy S21  https://www.amazon.com.br/SM-G996B-Standard-Du...   \n",
       "\n",
       "                                    Lojas Americanas  \\\n",
       "0  https://www.americanas.com.br/produto/16113159...   \n",
       "1  https://www.americanas.com.br/produto/28752403...   \n",
       "\n",
       "                                      Magazine Luiza  Preço Original  \\\n",
       "0  https://www.magazineluiza.com.br/iphone-11-app...            5297   \n",
       "1  https://www.magazineluiza.com.br/smartphone-sa...            7000   \n",
       "\n",
       "   Preço Atual             Local  \n",
       "0      3905.07  Lojas Americanas  \n",
       "1      4048.70  Lojas Americanas  "
      ]
     },
     "metadata": {},
     "output_type": "display_data"
    }
   ],
   "source": [
    "display(products)"
   ]
  },
  {
   "cell_type": "code",
   "execution_count": 34,
   "id": "12d580e1",
   "metadata": {},
   "outputs": [],
   "source": [
    "# save file\n",
    "products.to_excel('Products.xlsx')"
   ]
  },
  {
   "cell_type": "code",
   "execution_count": null,
   "id": "95957791",
   "metadata": {},
   "outputs": [],
   "source": [
    "# send e-Mail\n",
    "outlook = win32.Dispatch('outlook.application')\n",
    "\n",
    "if sendemail:\n",
    "    mail = outlook.CreateItem(0)\n",
    "    mail.To = 'destiny@mail.com'\n",
    "    mail.Subject = f'Found product with {discount_min:.0%} or more Discount'\n",
    "    \n",
    "    # Filtering product table\n",
    "    table_filtered = products.loc[products['Preço Atual'] <= products['Preço Original']*(1-discount_min), :]\n",
    "    \n",
    "    \n",
    "    mail.HTMLBody = f'<p>Products with {discount_min:.0%} or more</p>{table_filtered.to_html()}'\n",
    "    \n",
    "    \n",
    "    \n",
    "    mail.Send()\n",
    "    \n",
    "print ('End of Analisys')\n",
    "driver.quit()"
   ]
  }
 ],
 "metadata": {
  "kernelspec": {
   "display_name": "Python 3",
   "language": "python",
   "name": "python3"
  },
  "language_info": {
   "codemirror_mode": {
    "name": "ipython",
    "version": 3
   },
   "file_extension": ".py",
   "mimetype": "text/x-python",
   "name": "python",
   "nbconvert_exporter": "python",
   "pygments_lexer": "ipython3",
   "version": "3.8.8"
  }
 },
 "nbformat": 4,
 "nbformat_minor": 5
}
